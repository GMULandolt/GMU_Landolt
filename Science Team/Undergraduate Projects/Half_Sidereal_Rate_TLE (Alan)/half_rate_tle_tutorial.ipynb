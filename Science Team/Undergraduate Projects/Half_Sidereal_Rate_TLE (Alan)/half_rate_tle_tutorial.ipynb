{
 "cells": [
  {
   "cell_type": "markdown",
   "id": "1f6fcd4c",
   "metadata": {},
   "source": [
    "# Tutorial for using the Half Rate TLE generator\n",
    "The Half Rate TLE generator creates satellite TLEs for use with Landolt observing mode 3. Given an input satellite TLE, the script will generate a new \"synthetic\" TLE that simulates the satellite moving at half its normal rate across the sky in approximately the same position as the real satellite. The synthetic TLE can be inputted into a telescope tracking system to observe the satellite in mode 3, or used in orbit simulations. The synthetic TLE is only valid for time intervals close to the specified input time. The accuracy in position of the synthetic TLE for geostationary satellites is generally <0.5\" in RA/Dec. There is a slight inclination of the synthetic TLE with respect to the real TLE (the two paths are not exactly parallel).\n",
    "\n",
    "The code can be run by running the entire file, or by importing the method from the file. To run the code using the entire file, edit the `TLE` variable at the top of the file to your input TLE, then run the file with Python. The synthetic TLE wil be outputted to the terminal and saved to `half_rate_tle.txt`. Alternatively, the following describes how to run the code by importing the `generate_half_rate_tle` method.  "
   ]
  },
  {
   "cell_type": "markdown",
   "id": "acce9698",
   "metadata": {},
   "source": [
    "First, download your input TLE from [here](https://celestrak.org/NORAD/elements/). Your input TLE must be up-to-date for the code to work. "
   ]
  },
  {
   "cell_type": "code",
   "execution_count": 1,
   "id": "ac5dc41a",
   "metadata": {},
   "outputs": [],
   "source": [
    "input_tle = \"\"\"\n",
    "INTELSAT 40E (IS-40E)   \n",
    "1 56174U 23052A   25175.19879508 -.00000172  00000+0  00000+0 0  9991\n",
    "2 56174   0.0217  31.9548 0001624  98.8959 122.3127  1.00270558  8246\n",
    "\"\"\""
   ]
  },
  {
   "cell_type": "markdown",
   "id": "2cda1631",
   "metadata": {},
   "source": [
    "Import the method:"
   ]
  },
  {
   "cell_type": "code",
   "execution_count": 2,
   "id": "cce6e6fb",
   "metadata": {},
   "outputs": [],
   "source": [
    "from half_rate_tle import generate_half_rate_tle"
   ]
  },
  {
   "cell_type": "markdown",
   "id": "cec4b3cc",
   "metadata": {},
   "source": [
    "The `generate_half_rate_tle` method takes two arguments: the input TLE, and an optional `datetime` at which to generate the synthetic TLE. The datetime defaults to the time at which the method is run. The method returns the synthetic TLE and the error between the synthetic and input TLE. It also prints out information about the run, the synthetic TLE, and the error. The synthetic TLE is also saved to `half_rate_tle.txt`. To generate a half rate TLE valid at the time at which it is generated, run:"
   ]
  },
  {
   "cell_type": "code",
   "execution_count": 3,
   "id": "b844ef22",
   "metadata": {},
   "outputs": [
    {
     "name": "stdout",
     "output_type": "stream",
     "text": [
      "Generating TLE for date/time: 2025-06-24T16:38:08.554904+00:00\n",
      "\n",
      "Real Satellite RA/Dec/Distance:      04h 37m 57.48s | -06deg 05' 27.1\" | 0.000251035 au\n",
      "Half-rate Satellite RA/Dec/Distance: 04h 37m 56.33s | -06deg 04' 34.5\" | 0.000251181 au\n",
      "\n",
      "Original parameters: (5.249229317204813, 0.0001624, 0.03580769205374228, 0.002187564224889925)\n",
      "Fitted parameters:   (5.888836852703255, 0.4558812332927011, 1.8679632546601234e-13, 0.002237564216442329)\n",
      "Error (RA/Dec/Distance): (8.423405334512246e-05, -0.0002549989108469042, -1.4628557539581814e-07)\n",
      "\n",
      "Half-rate Satellite TLE:\n",
      "---------------------------------\n",
      "INTELSAT 40E (IS-40E) HALF\n",
      "1 81085U          25175.69315457 -.00000086  00000-0  00000+0 0    09\n",
      "2 81085   0.0000  31.9548 4558812  98.8959 337.4055  0.51281194    03\n"
     ]
    }
   ],
   "source": [
    "half_rate_tle, error = generate_half_rate_tle(input_tle)"
   ]
  },
  {
   "cell_type": "code",
   "execution_count": 5,
   "id": "1b01186c",
   "metadata": {},
   "outputs": [
    {
     "name": "stdout",
     "output_type": "stream",
     "text": [
      "INTELSAT 40E (IS-40E) HALF\n",
      "1 81085U          25175.69315457 -.00000086  00000-0  00000+0 0    09\n",
      "2 81085   0.0000  31.9548 4558812  98.8959 337.4055  0.51281194    03\n",
      "------\n",
      "(8.423405334512246e-05, -0.0002549989108469042, -1.4628557539581814e-07)\n"
     ]
    }
   ],
   "source": [
    "print(half_rate_tle)\n",
    "print('------')\n",
    "print(error)"
   ]
  },
  {
   "cell_type": "markdown",
   "id": "f0364afa",
   "metadata": {},
   "source": []
  }
 ],
 "metadata": {
  "kernelspec": {
   "display_name": "Python 3",
   "language": "python",
   "name": "python3"
  },
  "language_info": {
   "codemirror_mode": {
    "name": "ipython",
    "version": 3
   },
   "file_extension": ".py",
   "mimetype": "text/x-python",
   "name": "python",
   "nbconvert_exporter": "python",
   "pygments_lexer": "ipython3",
   "version": "3.12.3"
  }
 },
 "nbformat": 4,
 "nbformat_minor": 5
}
