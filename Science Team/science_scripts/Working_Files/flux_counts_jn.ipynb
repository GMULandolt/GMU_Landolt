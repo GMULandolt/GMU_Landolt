{
 "cells": [
  {
   "cell_type": "markdown",
   "id": "d13c87ce-0b6f-4183-abee-f2e03ad01901",
   "metadata": {},
   "source": [
    "# Code for estimating observed counts from Landolt"
   ]
  },
  {
   "cell_type": "markdown",
   "id": "2f1b9629-849b-48a7-9d69-6501029c4587",
   "metadata": {},
   "source": [
    "### Loads in data for the orbit and location of Landolt\n",
    "satcoord.csv -> data from Landolt orbit simulations\\\n",
    "satlatlon.csv -> latitude and longitude of Landolt\\\n",
    "satcoordxyz.csv -> cartesian coordinates of Landolt"
   ]
  },
  {
   "cell_type": "code",
   "execution_count": 1,
   "id": "89488f92-fa40-4e2a-873b-2e87525d701f",
   "metadata": {
    "jupyter": {
     "source_hidden": true
    }
   },
   "outputs": [],
   "source": [
    "import numpy as np\n",
    "from scipy.integrate import quad\n",
    "from settings import parameters\n",
    "import sys\n",
    "import matplotlib.pyplot as plt\n",
    "\n",
    "data = np.genfromtxt('satcoord.csv',delimiter=',',skip_header=1)\n",
    "datalatlon = np.genfromtxt('satlatlon.csv',delimiter=',',skip_header=1)\n",
    "dataxyz = np.genfromtxt('satcoordxyz.csv',delimiter=',',skip_header=1)"
   ]
  },
  {
   "cell_type": "markdown",
   "id": "fe9ded40-31d0-418e-a80d-e63ec1a21cfc",
   "metadata": {},
   "source": [
    "### Assigns parameters from settings.json and above files to variables\n",
    "z -> distance from observer to Landolt (m)\\\n",
    "alt -> altitude of Landolt at the center of the beam path (rads)\\\n",
    "alt0 -> altitude of Landolt at the center of the beam path when observations begin (rads)\\\n",
    "tdelta -> time increment of satcoord.csv orbit simulation calculations (s)\\\n",
    "lat_obs, lon_obs -> latitude and longitude of the center of the beam path (rads)\\\n",
    "lat_loc, lon_loc -> latitude and longitude of observer (rads)\\\n",
    "t_efficiency -> telescope efficiency\\\n",
    "ccd_efficiency -> ccd quantum efficiency\\\n",
    "diam_t -> diameter of observer's telescope (m)\\\n",
    "a_t -> area over which the telescope takes in light (m^2)\\\n",
    "lmbda_n -> parameter that determines which laser is being observed\\\n",
    "(0 - 355nm, 1 - 488nm, 2 - 655nm, 3 - 785nm, 4 - 976nm, 5 - 1064nm, 6 - 1310nm, 7 - 1550nm)\\\n",
    "humidity -> relative humidity at observation location (%)\\\n",
    "aod -> aerosol optical depth at each wavelength\\\n",
    "alpha -> angle that a line perpendicular to the center of the beam path makes with a line tangent to Earth's surface at the center of the beam path (rads)\\\n",
    "t -> array of times incrementing with t=tdelta (s)\\\n",
    "airmass -> airmass at the altitude of Landolt"
   ]
  },
  {
   "cell_type": "code",
   "execution_count": 2,
   "id": "4c2690ea-08cc-4b27-8bbe-735c73e1115f",
   "metadata": {
    "jupyter": {
     "source_hidden": true
    }
   },
   "outputs": [],
   "source": [
    "z = data[:,5]*1e3\n",
    "alt = data[:,4]*(np.pi/180) \n",
    "alt0 = data[0,4]*(np.pi/180) \n",
    "tdelta = parameters.tdelta/1000\n",
    "lat_obs = parameters.lat*(np.pi/180)\n",
    "lon_obs = parameters.lon*(np.pi/180)\n",
    "lat_loc = float(parameters.lat_loc)*(np.pi/180)\n",
    "lon_loc = float(parameters.lon_loc)*(np.pi/180) \n",
    "t_efficiency = float(parameters.t_eff)\n",
    "ccd_efficiency = float(parameters.ccd_eff)\n",
    "diam_t = float(parameters.t_diam)\n",
    "a_t = np.pi*(diam_t/2)**2\n",
    "lmbda_n = int(parameters.n)\n",
    "humidity = float(parameters.humidity)\n",
    "fob = 1\n",
    "alpha = np.pi/2 - alt\n",
    "t = np.linspace(0,len(z)-1,num=len(z))*tdelta\n",
    "airmass = (1/np.cos(alpha)) - 0.0018167*((1/np.cos(alpha))-1) - 0.002875*((1/np.cos(alpha))-1)**2 - 0.0008083*((1/np.cos(alpha))-1)**3\n",
    "aod = [0.055, 0.08, 0.06, 0.045, 0.045, 0.045, 0.035, 0.035]\n",
    "# aod varies w/ humidity, the code factors that in here\n",
    "if humidity >= 0.6:\n",
    "    aod[lmbda_n] = aod[lmbda_n] + 0.05\n",
    "if humidity >= 0.8:\n",
    "    aod[lmbda_n] = aod[lmbda_n] + 0.05"
   ]
  },
  {
   "cell_type": "markdown",
   "id": "ebd62717-1307-417c-aa99-8d57e907950d",
   "metadata": {},
   "source": [
    "### Creating Empty Variable Tables "
   ]
  },
  {
   "cell_type": "code",
   "execution_count": 3,
   "id": "1940ee1e-3c69-402e-a77b-6d433972b700",
   "metadata": {
    "jupyter": {
     "source_hidden": true
    }
   },
   "outputs": [],
   "source": [
    "w_z = np.zeros(len(z))\n",
    "FWHM = np.zeros(len(z))\n",
    "error_p = np.zeros(len(z))\n",
    "z_new = np.zeros(len(t))\n",
    "w_z = np.zeros(len(t))\n",
    "flux_z = np.zeros(len(t))\n",
    "tflux = np.zeros(len(t))\n",
    "counts = np.zeros(len(t))\n",
    "I_final = np.zeros(len(t))\n",
    "counts_final = np.zeros(len(t))\n",
    "mag_final = np.zeros(len(t))\n",
    "num_flux = np.zeros(len(t))\n",
    "num_counts = np.zeros(len(t))\n",
    "num_I_final = np.zeros(len(t))\n",
    "num_counts_final = np.zeros(len(t))\n",
    "t_reqd = np.zeros(len(t))\n",
    "num_t_reqd = np.zeros(len(t))\n",
    "curve_theta = np.zeros(len(t))"
   ]
  },
  {
   "cell_type": "markdown",
   "id": "aeb5944e-84ff-419e-bca1-66713c89a222",
   "metadata": {},
   "source": [
    "### Finding the position of observer relative to Landolt\n",
    "orient_x, orient_y, orient_z -> x, y, and z coordinates of the center of the beam path evaluated from the latitude and longitude of Landolt using spherical coordinates and using the volumetric mean radius of Earth (m)\\\n",
    "orient_xloc, orient_yloc, orient_zloc -> x, y, and z coordinates of the observer evaluated similarly with the center of the beam path as the origin (m)\\\n",
    "sat_x, sat_y, sat_z -> x, y, and z coordinates of Landolt in GCRS coordinates (m)\\\n",
    "sat_lat, sat_lon -> latitude and longitude of Landolt projected to Earth (rads)\\\n",
    "orient_xsat, orient_ysat, orient_zsat -> x, y, and z coordinates of Landolt projected on to Earth's surface with the center of the beam path as the origin evaluated from its latitude and longitude using spherical coordinates (m)\\\n",
    "d0 -> distance of the observer from the center of the beam path evaluated from the x, y, and z coordinates calculated above (m)\\\n",
    "beta -> the angle between the orient_x/y/zloc and orient_x/y/zsat vectors calculated from the equation for the dot product of two vectors (rads)"
   ]
  },
  {
   "cell_type": "code",
   "execution_count": 4,
   "id": "ecd74edb-9ff0-4587-b23c-70ed89eeb398",
   "metadata": {
    "jupyter": {
     "source_hidden": true
    }
   },
   "outputs": [],
   "source": [
    "orient_x = 6371000*np.sin((np.pi/2) - lat_obs)*np.cos(lon_obs)\n",
    "orient_y = 6371000*np.sin((np.pi/2) - lat_obs)*np.sin(lon_obs)\n",
    "orient_z = 6371000*np.cos((np.pi/2) - lat_obs)\n",
    "orient_xloc = 6371000*np.sin((np.pi/2) - lat_loc)*np.cos(lon_loc)\n",
    "orient_yloc = 6371000*np.sin((np.pi/2) - lat_loc)*np.sin(lon_loc)\n",
    "orient_zloc = 6371000*np.cos((np.pi/2) - lat_loc)\n",
    "orient_xloc = orient_xloc - orient_x # to get vector from center of the beam path to observer\n",
    "orient_yloc = orient_yloc - orient_y # similarly\n",
    "orient_zloc = orient_zloc - orient_z # similarly\n",
    "sat_x = dataxyz[:,0]\n",
    "sat_y = dataxyz[:,1]\n",
    "sat_z = dataxyz[:,2]\n",
    "sat_lat = datalatlon[:,0]\n",
    "sat_lon = datalatlon[:,1]\n",
    "orient_xsat = 6371000*np.sin((np.pi/2) - sat_lat)*np.cos(sat_lon)\n",
    "orient_ysat = 6371000*np.sin((np.pi/2) - sat_lat)*np.sin(sat_lon)\n",
    "orient_zsat = 6371000*np.cos((np.pi/2) - sat_lat)\n",
    "orient_xsat = orient_xsat - orient_x # to get vector from center of the beam path to observer\n",
    "orient_ysat = orient_ysat - orient_y # similarly\n",
    "orient_zsat = orient_zsat - orient_z # similarly\n",
    "d0 = np.sqrt(orient_xloc**2 + orient_yloc**2 + orient_zloc**2) # distance of observer from center of beam path\n",
    "beta = np.arccos(((orient_xloc*orient_xsat) + (orient_yloc*orient_ysat) + (orient_zloc*orient_zsat))/(d0*np.sqrt(orient_xsat**2 + orient_ysat**2 + orient_zsat**2))) # angle between a line made between the center of the beam path and observer and the satellite-to-center of beam path vector projected on to earth's surface\n",
    "if d0 < diam_t/2:\n",
    "    d0 = diam_t/2 # fixes error where starting at zero creates invalid variables, sets distance from center of the beam path to the radius of the telescope at the very minimum\n"
   ]
  },
  {
   "cell_type": "markdown",
   "id": "3c14f7fc-1384-4ac2-8d24-c606a0afa70e",
   "metadata": {},
   "source": [
    "### Laser properties and magnitude zero points\n",
    "MFD -> Mode field diameter for each laser (m)\\\n",
    "w_0 -> Initial waist radius of the Gaussian beam (m)\\\n",
    "lmbda -> Wavelengths of each laser (m)\\\n",
    "P_0 -> Total output power of each laser (W)\\\n",
    "zp -> Zero points for the wavelengths of each laser"
   ]
  },
  {
   "cell_type": "code",
   "execution_count": 7,
   "id": "1ab7200b-4044-414e-8b72-84fe802b4450",
   "metadata": {},
   "outputs": [],
   "source": [
    "MFD = [2.5e-6, 3.5e-6, 4e-6, 5e-6, 5.9e-6, 6.2e-6, 9.2e-6, 10.4e-6] # mode field diameter of optical fiber\n",
    "w_0 = MFD[lmbda_n]/2 # waist radius of the gaussian beam\n",
    "lmbda = [355e-9, 488e-9, 655e-9, 785e-9, 976e-9, 1064e-9, 1310e-9, 1550e-9] # wavelength of all eight lasers\n",
    "P_0 = [0.003, 0.04, 0.05, 0.0636, 0.45, 0.3, 0.5, 0.1] # power of all four lasers\n",
    "zp = [417.5*1e-7*10000*a_t*1e10*lmbda[0]*1e-11, 632*1e-7*10000*a_t*1e10*lmbda[1]*1e-11, 217.7*1e-7*10000*a_t*1e10*lmbda[2]*1e-11, 112.6*1e-7*10000*a_t*1e10*lmbda[3]*1e-11, 31.47*1e-7*10000*a_t*1e10*lmbda[4]*1e-11, 31.47*1e-7*10000*a_t*1e10*lmbda[5]*1e-11, 31.47*1e-7*10000*a_t*1e10*lmbda[6]*1e-11, 11.38*1e-7*10000*a_t*1e10*lmbda[7]*1e-11] # zero points of each laser"
   ]
  },
  {
   "cell_type": "markdown",
   "id": "30a822a3-93a5-4607-b3bc-8bc4646656b5",
   "metadata": {},
   "source": [
    "### Preliminary calculations\n",
    "I_0 -> Incident intensity of the specified laser (W/m^2)\\\n",
    "z_r -> Raleigh range used in calculating the radius of the Gaussian beam at a given distance z (https://www.thorlabs.com/newgrouppage9.cfm?objectgroup_id=14204) (m)\\\n",
    "w_z0 -> Gaussian beam radius at a distance z (https://www.thorlabs.com/newgrouppage9.cfm?objectgroup_id=14204) (m)\\\n",
    "FWHM -> full width at half maximum of a Gaussian beam profile with a radius of w_z0\\\n",
    "x -> The array of distances to be used in numerically integrating the beam profile over the diameter of the observer's telescope (m)\\\n",
    "theta -> The angle made between the normal vector of Earth's surface at the center of the beam path and a ray of light landing a given distance away from the normal vector. This is used in determining how different parts of the Gaussian beam reach Earth at different distances and various angles of incidence (rads)"
   ]
  },
  {
   "cell_type": "code",
   "execution_count": 8,
   "id": "144d57c2-cef6-4204-879c-3e3131b4f985",
   "metadata": {
    "jupyter": {
     "source_hidden": true
    }
   },
   "outputs": [],
   "source": [
    "I_0 = (2*P_0[lmbda_n])/(np.pi*w_0**2) # incident intensity of the laser\n",
    "z_r = (np.pi/lmbda[lmbda_n])*w_0**2 # raleigh range\n",
    "\n",
    "# calculates flux as a gaussian distribution for height above center of beam path given\n",
    "w_z0 = w_0*np.sqrt(1+(z[0]/z_r)**2) # beam radius at distance z\n",
    "if d0 > w_z0:\n",
    "    print('Error: Observer Outside Beam Path')\n",
    "    sys.exit()\n",
    "FWHM = np.sqrt(2*np.log(2))*w_z0 # full width at half maximum of the beam profile for a given distance from the waist\n",
    "x = np.arange(d0 - diam_t/2, d0 + diam_t/2, 0.001) # the distance on one direction perpendicular to the laser vector\n",
    "theta = np.arctan(d0/z) # angle made between the normal of earth's surface and a beam of light landing a given distance away from the normal"
   ]
  },
  {
   "cell_type": "markdown",
   "id": "704b06b5-81c7-491e-ab06-80aad8dd083a",
   "metadata": {},
   "source": [
    "### Analytic Gaussian distribution of flux\n",
    "The distances z from Landolt to the surface of Earth are first modified by accounting for Earth's curvature. A cos^-1(theta) term is also applied to the original z values to take into account the incidence angle of the Gaussian beam. To account for the projection of the beam on a tangent line at the center of the beam path, trigonometry is used to determine to which extent the distances z change at different positions in the beam's projection on Earth's surface. For instance, at an altitude of 45 degrees, z distances increase towards Landolt and away from Landolt but remain constant perpendicular to the beam's path to Earth. This code also accounts for how the changes in altitude effect how much these distances increase and decrease."
   ]
  },
  {
   "cell_type": "code",
   "execution_count": 9,
   "id": "018601e2-3b10-4e8d-89af-be63e4d1ea27",
   "metadata": {
    "jupyter": {
     "source_hidden": true
    }
   },
   "outputs": [
    {
     "name": "stdout",
     "output_type": "stream",
     "text": [
      "Calculating Gaussian distribution of flux...\n",
      "Done!\n"
     ]
    }
   ],
   "source": [
    "print('Calculating Gaussian distribution of flux...')\n",
    "for j in range(len(t)):\n",
    "    curve_theta[j] = np.arctan(d0/6371000) # angle between the center of the beam path and the observer measured from the center of the earth\n",
    "    z_new[j] = (z[j]+(6371000-6371000*np.cos(curve_theta[j])))/np.cos(theta[j]) # amount of distance a given light ray travels factoring in the curvature of the earth\n",
    "    if alt0 <= alt[j]: # identifies if observer is closer or further from the satellite using its relative altitude in the sky\n",
    "        z_new[j] = z_new[j] - d0*np.tan(alpha[j])*np.sin(beta[j])\n",
    "    else:\n",
    "        z_new[j] = z_new[j] + d0*np.tan(alpha[j])*np.sin(beta[j])\n",
    "    w_z[j] = w_0*np.sqrt(1+(z_new[j]/z_r)**2) # beam radius observed on earth's surface accounting for the curvature of earth\n",
    "    flux_z[j] = I_0*((w_0/w_z[j])**2)*np.e**((-2*d0**2)/w_z[j]**2) # flux along one 2D slice of the 3D gaussian beam profile for different distances from the satellite in the center of the beam path\n",
    "print('Done!')"
   ]
  },
  {
   "cell_type": "markdown",
   "id": "66d04fe9-8bd3-4c99-943d-da2faf8a878b",
   "metadata": {},
   "source": [
    "### Calculating flux reeived at telescope analytically\n",
    "error_p -> error in pointing (m)\\\n",
    "The total flux is first found by first integrating the 2D Gaussian distribution of flux across a segment the length of the diameter of the telescope centered around the distance of the observer from the center of the beam path. To take into account the 3D nature of the beam, the area a ring with inner radius d0 - diam_t/2 and outer radius d0 + diam_t is first divided by the area the telescope is able to take in light. The 2D flux is then multiplied by 2pi divided by this value to integrate across phi in spherical coordinates. Integration is able to be done this way because the Gaussian beam is radially symmetric.\\\n",
    "tflux -> power received by telescope ignoring atmospheric extinction (W)\\\n",
    "counts -> counts received by telescope ignoring atmospheric extinction (photons/s)"
   ]
  },
  {
   "cell_type": "code",
   "execution_count": 74,
   "id": "6e697174-7746-4350-af26-3ceae7589537",
   "metadata": {
    "jupyter": {
     "source_hidden": true
    }
   },
   "outputs": [
    {
     "name": "stdout",
     "output_type": "stream",
     "text": [
      "Calculating flux recieved at telescope...\n",
      "Done!\n"
     ]
    }
   ],
   "source": [
    "dis_t = x # renaming variable\n",
    "error_p[1:] = z_new[1:]*0.00000484813681109536*t[1:]\n",
    "\n",
    "print('Calculating flux recieved at telescope...')\n",
    "for i in range(len(t)):\n",
    "    def flux_fn(r):\n",
    "        return r*I_0*((w_0/w_z[i])**2)*np.e**((-2*r**2)/w_z[i]**2)\n",
    "    tflux_temp = quad(flux_fn, -(diam_t/2) + d0, (diam_t/2) + d0)\n",
    "    coeftemp = np.pi*(((diam_t/2) + d0)**2 - (-(diam_t/2) + d0)**2) / a_t\n",
    "    tflux[i] = tflux_temp[0]*(2*np.pi/coeftemp)\n",
    "    counts[i] = (tflux[i]*lmbda[lmbda_n])/(6.62607015e-34*299792458)\n",
    "print('Done!')\n"
   ]
  },
  {
   "cell_type": "markdown",
   "id": "56d7cf23-c5fd-43a9-b4c1-dbfc3b49b203",
   "metadata": {},
   "source": [
    "### Calculating the flux received at telescope numerically\n",
    "The same procedure as above is used, though this time a Riemann sum is taken of any given distribution of flux. Each component of the Riemann sum is subject to the same 3D integration detailed above.\\\n",
    "num_flux -> numerically calculated power received by telescope ignoring atmospheric extinction (W)\\\n",
    "num_counts -> numerically calculated counts received by telescope ignoring atmospheric extinction (photons/s)"
   ]
  },
  {
   "cell_type": "code",
   "execution_count": 75,
   "id": "2bde8b60-4976-4f48-a500-ff78d144fab3",
   "metadata": {
    "jupyter": {
     "source_hidden": true
    }
   },
   "outputs": [
    {
     "name": "stdout",
     "output_type": "stream",
     "text": [
      "Calculating flux received at telescope numerically... (this will take a while)\n",
      "Done!\n"
     ]
    }
   ],
   "source": [
    "print('Calculating flux received at telescope numerically... (this will take a while)')\n",
    "for i in range(len(t)):\n",
    "    num_flux_temp = 0\n",
    "    r_sum = 0\n",
    "    for j in range(len(dis_t) - 1):\n",
    "        def flux_fn(r): # defines the function for the distribution of light -> can be replaced with anything\n",
    "            return I_0*((w_0/w_z[i])**2)*np.e**((-2*r**2)/w_z[i]**2)    \n",
    "        r_sum = flux_fn((dis_t[j+1] + dis_t[j])/2)*(dis_t[j+1] - dis_t[j])\n",
    "        num_flux_temp = num_flux_temp + r_sum\n",
    "    coeftemp = np.pi*(((diam_t/2) + (dis_t[0] + dis_t[len(dis_t)-1])/2)**2 - (-(diam_t/2) + (dis_t[0] + dis_t[len(dis_t)-1])/2)**2) / a_t\n",
    "    num_flux[i] = d0*num_flux_temp*(2*np.pi/coeftemp)\n",
    "    num_counts[i] = (num_flux[i]*lmbda[lmbda_n])/(6.62607015e-34*299792458)\n",
    "print('Done!')"
   ]
  },
  {
   "cell_type": "markdown",
   "id": "60741fae-a0e9-4778-b9cd-4940750e5690",
   "metadata": {},
   "source": [
    "### Factoring in atmospheric extinction\n",
    "r_coef -> Atmospheric extinction coefficient found using the Beer-Lambert law where tau is the Rayleigh cross section, distance from Landolt to observer, and average number of molecules per cubic meter multiplied together. r_coef is calculated for n2, o2, argon, co2, and neon\\\n",
    "m_coef -> transmission coefficient from mie scattering\\\n",
    "N -> Average number of molecules per square meter in Earth's atmosphere. This is calculated assuming all of Earth's atmosphere lies between Landolt and Earth's surface\\\n",
    "cs_n2, cs_o2, cs_ar, cs_co2, cs_ne -> rayleigh scattering cross sections for n2, o2, argon, co2, and neon\\\n",
    "I_final -> calculates power observed at telescope factoring in atmospheric extinction (W)\\\n",
    "counts_final -> calculates counts observed at telescope factoring in atmospheric extinction (photons/s)\\\n",
    "mag_final -> calculates magnitude observed at telescope factoring in atmospheric extinction\\\n",
    "num_I_final, num_counts_final -> the above values calculated numerically\\\n",
    "t_reqd -> estimated exposure time necessary to receive 4.4e5 counts (s)\\\n",
    "num_t_reqd -> estimated exposure time necessary to receive 4.4e5 counts calculated numerically (s)"
   ]
  },
  {
   "cell_type": "code",
   "execution_count": 77,
   "id": "7d7804cb-f4e5-4d26-941a-69ccf100f185",
   "metadata": {
    "jupyter": {
     "source_hidden": true
    },
    "scrolled": true
   },
   "outputs": [],
   "source": [
    "def r_coef(cs, d, N):\n",
    "    \"\"\"\n",
    "    Using the Rayleigh scattering cross section cs, the \n",
    "    scattering coefficient is found given the distance d from the satellite to the detector,\n",
    "    and the amount of molecules N per cubic meter.\n",
    "    \"\"\"\n",
    "    r_coef = np.e**(-cs*N*d)\n",
    "    return r_coef\n",
    "\n",
    "N = 1e44 / (((4/3)*np.pi*(6371000 + z_new)**3) - (4/3)*np.pi*(6371000)**3)# average number of molecules that measured light passes per square meter\n",
    "\n",
    "# rayleigh scattering cross sections for 355 nm for the five most abundant gases in the atmosphere\n",
    "if lmbda_n == 0:\n",
    "    cs_n2 = 23.82e-31\n",
    "    cs_o2 = 20.03e-31\n",
    "    cs_ar = 23e-31\n",
    "    cs_co2 = 70.70e-31\n",
    "    cs_ne = 1.01e-31\n",
    "\n",
    "# rayleigh scattering cross sections for 488 nm for the five most abundant gases in the atmosphere\n",
    "elif lmbda_n == 1:\n",
    "    cs_n2 = 7.26e-31\n",
    "    cs_o2 = 6.50e-31\n",
    "    cs_ar = 7.24e-31\n",
    "    cs_co2 = 23e-31\n",
    "    cs_ne = 0.33e-31\n",
    "\n",
    "# rayleigh scattering cross sections for 655 nm for the five most abundant gases in the atmosphere\n",
    "# these values are extrapolated assuming a direct 1/lambda^4 relationship\n",
    "elif lmbda_n == 2:\n",
    "    cs_n2 = 2.24e-31\n",
    "    cs_o2 = 2.06e-31\n",
    "    cs_ar = 2.08e-31\n",
    "    cs_co2 = 7.28e-31\n",
    "    cs_ne = 0.103e-31\n",
    "\n",
    "# rayleigh scattering cross sections for 785 nm for the five most abundant gases in the atmosphere\n",
    "# these values are extrapolated assuming a direct 1/lambda^4 relationship\n",
    "elif lmbda_n == 3:\n",
    "    cs_n2 = 2.65e-31\n",
    "    cs_o2 = 2.2e-31\n",
    "    cs_ar = 2.38e-31\n",
    "    cs_co2 = 6.22e-31\n",
    "    cs_ne = 0.128e-31\n",
    "\n",
    "# rayleigh scattering cross sections for 976 nm for the five most abundant gases in the atmosphere\n",
    "# these values are extrapolated assuming a direct 1/lambda^4 relationship\n",
    "elif lmbda_n == 4:\n",
    "    cs_n2 = 1.11e-31\n",
    "    cs_o2 = 0.92e-31\n",
    "    cs_ar = 0.97e-31\n",
    "    cs_co2 = 2.6e-31\n",
    "    cs_ne = 0.128e-31\n",
    "\n",
    "# rayleigh scattering cross sections for 1064 nm for the five most abundant gases in the atmosphere\n",
    "# these values are extrapolated assuming a direct 1/lambda^4 relationship\n",
    "elif lmbda_n == 5:\n",
    "    cs_n2 = 0.79e-31\n",
    "    cs_o2 = 0.65e-31\n",
    "    cs_ar = 0.68e-31\n",
    "    cs_co2 = 1.84e-31\n",
    "    cs_ne = 3.79e-33\n",
    "\n",
    "# rayleigh scattering cross sections for 1310 nm for the five most abundant gases in the atmosphere\n",
    "# these values are extrapolated assuming a direct 1/lambda^4 relationship\n",
    "elif lmbda_n == 6:\n",
    "    cs_n2 = 0.34e-31\n",
    "    cs_o2 = 0.28e-31\n",
    "    cs_ar = 0.30e-31\n",
    "    cs_co2 = 0.8e-31\n",
    "    cs_ne = 1.65e-33\n",
    "\n",
    "# rayleigh scattering cross sections for 1550 nm for the five most abundant gases in the atmosphere\n",
    "# these values are extrapolated assuming a direct 1/lambda^4 relationship\n",
    "else:\n",
    "    cs_n2 = 7.13e-33\n",
    "    cs_o2 = 6.39e-33\n",
    "    cs_ar = 7.11e-33\n",
    "    cs_co2 = 2.26e-32\n",
    "    cs_ne = 3.24e-34\n",
    "\n",
    "r_coef1 = 1 - r_coef(cs_n2, z_new, N*0.78084) # scattering coefficient from rayleigh scattering for n2\n",
    "r_coef2 = 1 - r_coef(cs_o2, z_new, N*0.20946) # scattering coefficient from rayleigh scattering for o2\n",
    "r_coef3 = 1 - r_coef(cs_ar, z_new, N*0.00934) # scattering coefficient from rayleigh scattering for argon\n",
    "r_coef4 = 1 - r_coef(cs_co2, z_new, N*0.000397) # scattering coefficient from rayleigh scattering for co2\n",
    "r_coef5 = 1 - r_coef(cs_ne, z_new, N*1.818e-5) # scattering coefficient from rayleigh scattering for neon\n",
    "m_coef = 1 - np.ones(len(t))*np.e**(-aod[lmbda_n]) # transmission coefficient from mie scattering\n",
    "\n",
    "for i in range(len(t)):\n",
    "    I_final[i] = (tflux[i] - tflux[i]*(m_coef[i]+r_coef1[i]+r_coef2[i]+r_coef3[i]+r_coef4[i]+r_coef5[i])*airmass[i])*t_efficiency # calculates flux observed at telescope\n",
    "    counts_final[i] = ((I_final[i]*lmbda[lmbda_n])/(6.62607015e-34*299792458))*ccd_efficiency # total counts taken in\n",
    "    mag_final[i] = -2.5*np.log10(I_final[i]/zp[lmbda_n]) # relative magnitude calculated from vega zero points\n",
    "    num_I_final[i] = (num_flux[i] - num_flux[i]*(m_coef[i]+r_coef1[i]+r_coef2[i]+r_coef3[i]+r_coef4[i]+r_coef5[i])*airmass[i])*t_efficiency # calculates numerical flux observed at telescope\n",
    "    num_counts_final[i] = ((num_I_final[i]*lmbda[lmbda_n])/(6.62607015e-34*299792458))*ccd_efficiency # conversion from numerically calculated flux to photoelectric counts\n",
    "    t_reqd[i] = 4.4e5 / counts_final[i] # amount of seconds needed to observe 4.4e5 counts\n",
    "    num_t_reqd[i] = 4.4e5 / num_counts_final[i] # same as above but for the numerical counts"
   ]
  },
  {
   "cell_type": "markdown",
   "id": "99a34b3d-f0e7-433e-839c-af95a4bbc4c3",
   "metadata": {},
   "source": [
    "### Formatting satcoord.csv for export\n",
    "This section incorperates the blinking of the laser and adds columns for radiant flux, counts per second, airmass, magnitude, and recommended exposure time to the satcoord.csv file"
   ]
  },
  {
   "cell_type": "code",
   "execution_count": null,
   "id": "49996278-7f65-4b60-998e-28dfeadd6047",
   "metadata": {
    "jupyter": {
     "source_hidden": true
    }
   },
   "outputs": [],
   "source": [
    "for i in range(int(fob/1e-3)):\n",
    "    I_final[i::2*int(fob/1e-3)] = 0\n",
    "    counts_final[i::2*int(fob/1e-3)] = 0\n",
    "    mag_final[i::2*int(fob/1e-3)] = 0\n",
    "    num_I_final[i::2*int(fob/1e-3)] = 0\n",
    "    num_counts_final[i::2*int(fob/1e-3)] = 0\n",
    "    \n",
    "I_final = I_final[0:len(t)]\n",
    "counts_final = counts_final[0:len(t)]\n",
    "mag_final = mag_final[0:len(t)]\n",
    "\n",
    "print('Exporting file...')\n",
    "heading = np.array('Radiant Flux (W)',dtype='str')\n",
    "heading2 = np.array('Counts per Second')\n",
    "heading3 = np.array('Airmass')\n",
    "heading4 = np.array('Magnitude')\n",
    "heading5 = np.array('Recommended Exposure Time (s)')\n",
    "data = np.genfromtxt('satcoord.csv',dtype='str',delimiter=',')\n",
    "data = data[:,:7]\n",
    "I_final = np.asarray(I_final,dtype='str')\n",
    "counts_final = np.asarray(counts_final,dtype='str')\n",
    "airmass = np.asarray(airmass,dtype='str')\n",
    "mag_final = np.asarray(mag_final,dtype='str')\n",
    "t_reqd = np.asarray(t_reqd,dtype='str')\n",
    "I_final = np.insert(I_final[:],0,heading)\n",
    "counts_final = np.insert(counts_final[:],0,heading2)\n",
    "airmass = np.insert(airmass[:],0,heading3)\n",
    "mag_final = np.insert(mag_final[:],0,heading4)\n",
    "t_reqd = np.insert(t_reqd[:],0,heading5)\n",
    "output = np.column_stack((data,I_final))\n",
    "output = np.column_stack((output,counts_final))\n",
    "output = np.column_stack((output,airmass))\n",
    "output = np.column_stack((output,mag_final))\n",
    "output = np.column_stack((output,t_reqd))\n",
    "np.savetxt('satcoord.csv', output, fmt='%s', delimiter=',')\n",
    "\n",
    "print('Done!')"
   ]
  },
  {
   "cell_type": "code",
   "execution_count": null,
   "id": "24ae17ec-68b1-4a46-84ca-28bfa3bd6ae5",
   "metadata": {},
   "outputs": [],
   "source": []
  }
 ],
 "metadata": {
  "kernelspec": {
   "display_name": "Python 3 (ipykernel)",
   "language": "python",
   "name": "python3"
  },
  "language_info": {
   "codemirror_mode": {
    "name": "ipython",
    "version": 3
   },
   "file_extension": ".py",
   "mimetype": "text/x-python",
   "name": "python",
   "nbconvert_exporter": "python",
   "pygments_lexer": "ipython3",
   "version": "3.11.9"
  }
 },
 "nbformat": 4,
 "nbformat_minor": 5
}
